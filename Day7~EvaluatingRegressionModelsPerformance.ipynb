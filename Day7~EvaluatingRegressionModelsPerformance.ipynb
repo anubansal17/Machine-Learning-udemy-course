{
 "cells": [
  {
   "cell_type": "code",
   "execution_count": 1,
   "metadata": {},
   "outputs": [],
   "source": [
    "#Evaluating regression models performance"
   ]
  },
  {
   "cell_type": "code",
   "execution_count": 2,
   "metadata": {},
   "outputs": [],
   "source": [
    "#R-squared value\n",
    "#SSres = Sum(y-y^)^2\n",
    "#SSres -> Min\n",
    "#SStot = Sum(y-y_avg)^2\n",
    "#R^2 = 1 - (SSres/SStot)\n",
    "#greater the value of r-squared, better is the model\n",
    "#Problem with R-squared is that it will never decrease, it will always increase if we add new variables to the model -> So we cannot decide whether adding the variable is beneficial or not\n",
    "#therefore we use adjusted R-squared"
   ]
  },
  {
   "cell_type": "code",
   "execution_count": 3,
   "metadata": {},
   "outputs": [],
   "source": [
    "#Adjusted R-squared\n",
    "#Adj R^2 = 1 - (1- R^2)((n-1)/(n-p-1))\n",
    "#where p is number of regressors i.e. no of independent variables and is size of sample data"
   ]
  },
  {
   "cell_type": "code",
   "execution_count": null,
   "metadata": {},
   "outputs": [],
   "source": []
  }
 ],
 "metadata": {
  "kernelspec": {
   "display_name": "Python 3",
   "language": "python",
   "name": "python3"
  },
  "language_info": {
   "codemirror_mode": {
    "name": "ipython",
    "version": 3
   },
   "file_extension": ".py",
   "mimetype": "text/x-python",
   "name": "python",
   "nbconvert_exporter": "python",
   "pygments_lexer": "ipython3",
   "version": "3.6.5"
  }
 },
 "nbformat": 4,
 "nbformat_minor": 2
}
